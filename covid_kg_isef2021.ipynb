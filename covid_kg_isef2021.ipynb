{
  "nbformat": 4,
  "nbformat_minor": 0,
  "metadata": {
    "colab": {
      "name": "covid-kg-isef2021.ipynb",
      "provenance": [],
      "authorship_tag": "ABX9TyNEqK3zTmC7ZOT5BZMw5KqT",
      "include_colab_link": true
    },
    "kernelspec": {
      "name": "python3",
      "display_name": "Python 3"
    },
    "language_info": {
      "name": "python"
    }
  },
  "cells": [
    {
      "cell_type": "markdown",
      "metadata": {
        "id": "view-in-github",
        "colab_type": "text"
      },
      "source": [
        "<a href=\"https://colab.research.google.com/github/zhiqicheng/SciCo/blob/main/covid_kg_isef2021.ipynb\" target=\"_parent\"><img src=\"https://colab.research.google.com/assets/colab-badge.svg\" alt=\"Open In Colab\"/></a>"
      ]
    },
    {
      "cell_type": "code",
      "metadata": {
        "id": "ZnDGK7yL80zS"
      },
      "source": [
        "!pip install transformers"
      ],
      "execution_count": null,
      "outputs": []
    },
    {
      "cell_type": "code",
      "metadata": {
        "id": "I501XZ2q8O2B"
      },
      "source": [
        "from transformers import AutoTokenizer, AutoModelForSequenceClassification\n",
        "import torch\n",
        "\n",
        "tokenizer = AutoTokenizer.from_pretrained('allenai/longformer-scico')\n",
        "model = AutoModelForSequenceClassification.from_pretrained('allenai/longformer-scico')\n",
        "\n",
        "start_token = tokenizer.convert_tokens_to_ids(\"<m>\")\n",
        "end_token = tokenizer.convert_tokens_to_ids(\"</m>\")\n",
        "\n",
        "def get_global_attention(input_ids):\n",
        "    global_attention_mask = torch.zeros(input_ids.shape)\n",
        "    global_attention_mask[:, 0] = 1  # global attention to the CLS token\n",
        "    start = torch.nonzero(input_ids == start_token) # global attention to the <m> token\n",
        "    end = torch.nonzero(input_ids == end_token) # global attention to the </m> token\n",
        "    globs = torch.cat((start, end))\n",
        "    value = torch.ones(globs.shape[0])\n",
        "    global_attention_mask.index_put_(tuple(globs.t()), value)\n",
        "    return global_attention_mask\n",
        "    \n",
        "m1 = \"In this paper we present the results of an experiment in <m> automatic concept and definition extraction </m> from written sources of law using relatively simple natural methods.\"\n",
        "m2 = \"This task is important since many natural language processing (NLP) problems, such as <m> information extraction </m>, summarization and dialogue.\"\n",
        "\n",
        "inputs = m1 + \" </s></s> \" + m2  \n",
        "\n",
        "tokens = tokenizer(inputs, return_tensors='pt')\n",
        "global_attention_mask = get_global_attention(tokens['input_ids'])\n",
        "\n",
        "with torch.no_grad():\n",
        "    output = model(tokens['input_ids'], tokens['attention_mask'], global_attention_mask)\n",
        "    \n",
        "scores = torch.softmax(output.logits, dim=-1)\n",
        "# tensor([[0.0818, 0.0023, 0.0019, 0.9139]]) -- m1 is a child of m2"
      ],
      "execution_count": 5,
      "outputs": []
    },
    {
      "cell_type": "code",
      "metadata": {
        "colab": {
          "base_uri": "https://localhost:8080/"
        },
        "id": "7s_x6T8K92gD",
        "outputId": "0b2dea87-6606-446a-93c6-a014c43458f1"
      },
      "source": [
        "scores"
      ],
      "execution_count": 7,
      "outputs": [
        {
          "output_type": "execute_result",
          "data": {
            "text/plain": [
              "tensor([[0.0818, 0.0023, 0.0019, 0.9139]])"
            ]
          },
          "metadata": {},
          "execution_count": 7
        }
      ]
    }
  ]
}