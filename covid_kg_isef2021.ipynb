{
  "nbformat": 4,
  "nbformat_minor": 0,
  "metadata": {
    "colab": {
      "name": "covid-kg-isef2021.ipynb",
      "provenance": [],
      "authorship_tag": "ABX9TyNrgntNiVOpUFiBq/yToogp",
      "include_colab_link": true
    },
    "kernelspec": {
      "name": "python3",
      "display_name": "Python 3"
    },
    "language_info": {
      "name": "python"
    }
  },
  "cells": [
    {
      "cell_type": "markdown",
      "metadata": {
        "id": "view-in-github",
        "colab_type": "text"
      },
      "source": [
        "<a href=\"https://colab.research.google.com/github/zhiqicheng/SciCo/blob/main/covid_kg_isef2021.ipynb\" target=\"_parent\"><img src=\"https://colab.research.google.com/assets/colab-badge.svg\" alt=\"Open In Colab\"/></a>"
      ]
    },
    {
      "cell_type": "code",
      "metadata": {
        "id": "ZnDGK7yL80zS"
      },
      "source": [
        "!pip install transformers"
      ],
      "execution_count": null,
      "outputs": []
    },
    {
      "cell_type": "code",
      "metadata": {
        "id": "I501XZ2q8O2B"
      },
      "source": [
        "from transformers import AutoTokenizer, AutoModelForSequenceClassification\n",
        "import torch\n",
        "\n",
        "tokenizer = AutoTokenizer.from_pretrained('allenai/longformer-scico')\n",
        "model = AutoModelForSequenceClassification.from_pretrained('allenai/longformer-scico')\n",
        "\n",
        "start_token = tokenizer.convert_tokens_to_ids(\"<m>\")\n",
        "end_token = tokenizer.convert_tokens_to_ids(\"</m>\")\n",
        "\n",
        "def get_global_attention(input_ids):\n",
        "    global_attention_mask = torch.zeros(input_ids.shape)\n",
        "    global_attention_mask[:, 0] = 1  # global attention to the CLS token\n",
        "    start = torch.nonzero(input_ids == start_token) # global attention to the <m> token\n",
        "    end = torch.nonzero(input_ids == end_token) # global attention to the </m> token\n",
        "    globs = torch.cat((start, end))\n",
        "    value = torch.ones(globs.shape[0])\n",
        "    global_attention_mask.index_put_(tuple(globs.t()), value)\n",
        "    return global_attention_mask\n",
        "    \n",
        "m1 = \"<m> language processing </m> \"\n",
        "m2 = \"<m> language understanding </m>\"\n",
        "\n",
        "inputs = m1 + \" </s></s> \" + m2  \n",
        "\n",
        "tokens = tokenizer(inputs, return_tensors='pt')\n",
        "global_attention_mask = get_global_attention(tokens['input_ids'])\n",
        "\n",
        "with torch.no_grad():\n",
        "    output = model(tokens['input_ids'], tokens['attention_mask'], global_attention_mask)\n",
        "    \n",
        "scores = torch.softmax(output.logits, dim=-1)\n",
        "# tensor([[0.0818, 0.0023, 0.0019, 0.9139]]) -- m1 is a child of m2"
      ],
      "execution_count": 28,
      "outputs": []
    },
    {
      "cell_type": "code",
      "metadata": {
        "colab": {
          "base_uri": "https://localhost:8080/"
        },
        "id": "eBlxWEGcE71z",
        "outputId": "4c99486a-fdce-4803-a2ef-400473c2cdc2"
      },
      "source": [
        "scores"
      ],
      "execution_count": 29,
      "outputs": [
        {
          "output_type": "execute_result",
          "data": {
            "text/plain": [
              "tensor([[0.0260, 0.3146, 0.5285, 0.1309]])"
            ]
          },
          "metadata": {},
          "execution_count": 29
        }
      ]
    },
    {
      "cell_type": "code",
      "metadata": {
        "colab": {
          "base_uri": "https://localhost:8080/",
          "height": 286
        },
        "id": "nUNAsKxhFgKn",
        "outputId": "0e4c4418-2538-44ac-d3de-576021fdc161"
      },
      "source": [
        "import matplotlib.pyplot as plt\n",
        "#plt.title(\"\")\n",
        "y=scores[0].numpy()\n",
        "plt.plot(y,)\n",
        "plt.show"
      ],
      "execution_count": 31,
      "outputs": [
        {
          "output_type": "execute_result",
          "data": {
            "text/plain": [
              "<function matplotlib.pyplot.show>"
            ]
          },
          "metadata": {},
          "execution_count": 31
        },
        {
          "output_type": "display_data",
          "data": {
            "image/png": "[encoded data removed]",
            "text/plain": [
              "<Figure size 432x288 with 1 Axes>"
            ]
          },
          "metadata": {
            "needs_background": "light"
          }
        }
      ]
    }
  ]
}